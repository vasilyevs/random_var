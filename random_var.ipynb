{
 "cells": [
  {
   "cell_type": "code",
   "execution_count": 1,
   "metadata": {},
   "outputs": [],
   "source": [
    "import pandas as pd\n",
    "import numpy as np"
   ]
  },
  {
   "cell_type": "markdown",
   "metadata": {},
   "source": [
    "Смоделировать игру против лотерейного автомата типа “777”. Игрок платит 1 руб., \n",
    "после чего выпадает случайное целое число, равномерно распределенное от 0 до 999. \n",
    "При некоторых значениях числа игрок получает выигрыш (см. справа)\n",
    "\n",
    "Выгодна ли игра игроку?\n",
    "\n",
    "Сколько в среднем приобретает\n",
    "или теряет игрок за одну игру?\n",
    "\n",
    "777: 200 руб.  \n",
    "999: 100 руб.  \n",
    "555: 50 руб.  \n",
    "333: 15 руб.  \n",
    "111: 10 руб.  \n",
    "-77: 5 руб.  \n",
    "--7: 3 руб.  \n",
    "-00: 2 руб.  \n",
    "--0: 1 руб.  \n",
    "\n",
    "\\- – любая цифра  "
   ]
  },
  {
   "cell_type": "code",
   "execution_count": 2,
   "metadata": {},
   "outputs": [],
   "source": [
    "def profit_count():\n",
    "    \"\"\"\n",
    "    Считаем средний профит (сколько денег мы заработаем/потратим) на 100.000 игр\n",
    "    \"\"\"\n",
    "    trials = 100000    # Количество попыток\n",
    "    profit = 0       # Сумма выигрыша\n",
    "    np.random.seed(5)\n",
    "    for i in range(trials):\n",
    "        random_score = np.random.randint(0, 1000)    # Случайное число от 0 до 999\n",
    "        if random_score == 777:\n",
    "            profit += 199\n",
    "        elif random_score % 100 == 77:\n",
    "            profit += 4\n",
    "        elif random_score % 100 == 0:\n",
    "            profit += 4\n",
    "        elif random_score % 10 == 7:\n",
    "            profit += 2\n",
    "        elif random_score % 10 == 0:\n",
    "            profit += 0\n",
    "        elif random_score == 999:\n",
    "            profit += 99\n",
    "        elif random_score == 555:\n",
    "            profit += 49\n",
    "        elif random_score == 333:\n",
    "            profit += 14\n",
    "        elif random_score == 111:\n",
    "            profit += 9\n",
    "        else:\n",
    "            profit -= 1\n",
    "    return(profit/trials)"
   ]
  },
  {
   "cell_type": "code",
   "execution_count": 3,
   "metadata": {},
   "outputs": [],
   "source": [
    "# создаем список из 100 моделирований среднего профита на 100.000 игр\n",
    "profit = 0\n",
    "i = 0\n",
    "for i in range(10):\n",
    "    profit += profit_count()\n",
    "    i += 1"
   ]
  },
  {
   "cell_type": "code",
   "execution_count": 4,
   "metadata": {},
   "outputs": [
    {
     "name": "stdout",
     "output_type": "stream",
     "text": [
      "-0.22\n"
     ]
    }
   ],
   "source": [
    "print(round(profit/i,2))"
   ]
  },
  {
   "cell_type": "markdown",
   "metadata": {},
   "source": [
    "Судя по результатам с каждого потраченного рубля, мы теряем 22 копейки. "
   ]
  },
  {
   "cell_type": "markdown",
   "metadata": {},
   "source": [
    "Дополнительное задание повышенной сложности. Теоретически рассчитать средний выигрыш (проигрыш) и сравнить с результатами моделирования"
   ]
  },
  {
   "cell_type": "code",
   "execution_count": 5,
   "metadata": {},
   "outputs": [
    {
     "data": {
      "text/plain": [
       "-0.22999999999999987"
      ]
     },
     "execution_count": 5,
     "metadata": {},
     "output_type": "execute_result"
    }
   ],
   "source": [
    "(1/1000)*199+(1/1000)*99+(1/1000)*49+(1/1000)*14+(1/1000)*9+(10/1000)*4+(100/1000)*2+(9/1000)*4+(876/1000)*(-1)"
   ]
  }
 ],
 "metadata": {
  "kernelspec": {
   "display_name": "Python 3",
   "language": "python",
   "name": "python3"
  },
  "language_info": {
   "codemirror_mode": {
    "name": "ipython",
    "version": 3
   },
   "file_extension": ".py",
   "mimetype": "text/x-python",
   "name": "python",
   "nbconvert_exporter": "python",
   "pygments_lexer": "ipython3",
   "version": "3.8.4rc1"
  }
 },
 "nbformat": 4,
 "nbformat_minor": 2
}
