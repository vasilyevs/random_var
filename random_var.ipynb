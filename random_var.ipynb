{
 "cells": [
  {
   "cell_type": "code",
   "execution_count": 1,
   "metadata": {},
   "outputs": [],
   "source": [
    "import pandas as pd\n",
    "import numpy as np"
   ]
  },
  {
   "cell_type": "markdown",
   "metadata": {},
   "source": [
    "Смоделировать игру против лотерейного автомата типа “777”. Игрок платит 1 руб., \n",
    "после чего выпадает случайное целое число, равномерно распределенное от 0 до 999. \n",
    "При некоторых значениях числа игрок получает выигрыш (см. справа)\n",
    "\n",
    "Выгодна ли игра игроку?\n",
    "\n",
    "Сколько в среднем приобретает\n",
    "или теряет игрок за одну игру?\n",
    "\n",
    "777: 200 руб.  \n",
    "999: 100 руб.  \n",
    "555: 50 руб.  \n",
    "333: 15 руб.  \n",
    "111: 10 руб.  \n",
    "-77: 5 руб.  \n",
    "--7: 3 руб.  \n",
    "-00: 2 руб.  \n",
    "--0: 1 руб.  \n",
    "\n",
    "\\- – любая цифра  "
   ]
  },
  {
   "cell_type": "code",
   "execution_count": 2,
   "metadata": {},
   "outputs": [],
   "source": [
    "def profit_count():\n",
    "    \"\"\"\n",
    "    Считаем средний профит (сколько денег мы заработаем/потратим) на 100.000 игр\n",
    "    \"\"\"\n",
    "    trials = 100000    # Количество попыток\n",
    "    profit = 0       # Сумма выигрыша\n",
    "    #np.random.seed(5)\n",
    "    for i in range(trials):\n",
    "        random_score = np.random.randint(0, 1000)    # Случайное число от 0 до 999\n",
    "        if random_score == 777:\n",
    "            profit += 199\n",
    "        elif random_score == 999:\n",
    "            profit += 99\n",
    "        elif random_score == 555:\n",
    "            profit += 49\n",
    "        elif random_score == 333:\n",
    "            profit += 14\n",
    "        elif random_score == 111:\n",
    "            profit += 9\n",
    "        elif random_score % 100 == 77:\n",
    "            profit += 4\n",
    "        elif random_score % 100 % 10 == 7:\n",
    "            profit += 2\n",
    "        elif random_score % 100 == 0:\n",
    "            profit += 4\n",
    "        elif random_score % 100 % 10 == 0:\n",
    "            profit += 0\n",
    "        else:\n",
    "            profit -= 1\n",
    "    return(profit/trials)"
   ]
  },
  {
   "cell_type": "code",
   "execution_count": 8,
   "metadata": {},
   "outputs": [],
   "source": [
    "# создаем список из 100 моделирований среднего профита на 100.000 игр\n",
    "profit_list = []\n",
    "i = 0\n",
    "for i in range(100):\n",
    "#    print(i)\n",
    "    prof = profit_count()\n",
    "    profit_list.append(prof)\n",
    "    i += 1"
   ]
  },
  {
   "cell_type": "code",
   "execution_count": 10,
   "metadata": {
    "scrolled": true
   },
   "outputs": [
    {
     "name": "stdout",
     "output_type": "stream",
     "text": [
      "[-0.17579, -0.16421, -0.18282, -0.18749, -0.19929, -0.14275, -0.16948, -0.1533, -0.17735, -0.16213, -0.18781, -0.17648, -0.16538, -0.12918, -0.18426, -0.16817, -0.19412, -0.1446, -0.17724, -0.13666, -0.17889, -0.13804, -0.16673, -0.17584, -0.17421, -0.15355, -0.12668, -0.16868, -0.15586, -0.1842, -0.16238, -0.14688, -0.15594, -0.18808, -0.15896, -0.16155, -0.1901, -0.14316, -0.18831, -0.18298, -0.16765, -0.18314, -0.18354, -0.19049, -0.15425, -0.15171, -0.18999, -0.21755, -0.1781, -0.19981, -0.17492, -0.1713, -0.18517, -0.19116, -0.15678, -0.15305, -0.19836, -0.12666, -0.18891, -0.20483, -0.16726, -0.16615, -0.14491, -0.19055, -0.17039, -0.19583, -0.20323, -0.10958, -0.18161, -0.14736, -0.16171, -0.16581, -0.20251, -0.15598, -0.16801, -0.17029, -0.15749, -0.19104, -0.17018, -0.19539, -0.17039, -0.19152, -0.18764, -0.18035, -0.18463, -0.17086, -0.17524, -0.14024, -0.18012, -0.15165, -0.16618, -0.17597, -0.19988, -0.17587, -0.18747, -0.16688, -0.17481, -0.17654, -0.15605, -0.15524]\n"
     ]
    },
    {
     "data": {
      "text/plain": [
       "-0.17"
      ]
     },
     "execution_count": 10,
     "metadata": {},
     "output_type": "execute_result"
    }
   ],
   "source": [
    "# смотрим на результат и понимаем, что мы не выходим даже в 0 (разница между потраченной и заработанной суммой)\n",
    "# считаем медианное значение для результатов. \n",
    "print(profit_list)\n",
    "np.median(profit_list).round(2)"
   ]
  },
  {
   "cell_type": "markdown",
   "metadata": {},
   "source": [
    "Судя по результатам с каждого потраченного рубля, мы теряем 17 копеек. "
   ]
  },
  {
   "cell_type": "markdown",
   "metadata": {},
   "source": [
    "Дополнительное задание повышенной сложности. Теоретически рассчитать средний выигрыш (проигрыш) и сравнить с результатами моделирования"
   ]
  },
  {
   "cell_type": "code",
   "execution_count": null,
   "metadata": {},
   "outputs": [],
   "source": []
  }
 ],
 "metadata": {
  "kernelspec": {
   "display_name": "Python 3",
   "language": "python",
   "name": "python3"
  },
  "language_info": {
   "codemirror_mode": {
    "name": "ipython",
    "version": 3
   },
   "file_extension": ".py",
   "mimetype": "text/x-python",
   "name": "python",
   "nbconvert_exporter": "python",
   "pygments_lexer": "ipython3",
   "version": "3.8.4rc1"
  }
 },
 "nbformat": 4,
 "nbformat_minor": 2
}
